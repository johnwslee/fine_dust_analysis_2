{
 "cells": [
  {
   "cell_type": "markdown",
   "id": "5a0a3eab-a8db-493b-a344-73c9ddb139a8",
   "metadata": {},
   "source": [
    "# 0. Imports"
   ]
  },
  {
   "cell_type": "code",
   "execution_count": 1,
   "id": "4aeb45e5-b2f1-4018-8736-6a2135ed6dcc",
   "metadata": {},
   "outputs": [
    {
     "data": {
      "text/plain": [
       "<torch._C.Generator at 0x1c94f4476f0>"
      ]
     },
     "execution_count": 1,
     "metadata": {},
     "output_type": "execute_result"
    }
   ],
   "source": [
    "import os\n",
    "import warnings\n",
    "\n",
    "import numpy as np\n",
    "import pandas as pd\n",
    "from pandas.errors import SettingWithCopyWarning\n",
    "\n",
    "warnings.simplefilter(action=\"ignore\", category=SettingWithCopyWarning)\n",
    "warnings.simplefilter(action=\"ignore\", category=FutureWarning)\n",
    "\n",
    "import datetime\n",
    "\n",
    "import matplotlib.pyplot as plt\n",
    "import optuna\n",
    "import torch\n",
    "import torch.optim as optim\n",
    "from optuna.trial import TrialState\n",
    "from sklearn.preprocessing import StandardScaler\n",
    "from torch import nn\n",
    "from torch.utils.data import DataLoader, TensorDataset\n",
    "from torchsummary import summary\n",
    "from torchvision import datasets, transforms\n",
    "from torchvision.transforms import ToTensor\n",
    "from tqdm import tqdm\n",
    "\n",
    "import joblib\n",
    "\n",
    "torch.manual_seed(41)"
   ]
  },
  {
   "cell_type": "markdown",
   "id": "e1b7e6af-ab41-4a52-ad48-1e7776da4220",
   "metadata": {},
   "source": [
    "# 1. Dataset Preparation"
   ]
  },
  {
   "cell_type": "markdown",
   "id": "46e6de8b-fd65-4cf7-984a-5fd3d308dae0",
   "metadata": {},
   "source": [
    "## 1.1. Data Read In"
   ]
  },
  {
   "cell_type": "markdown",
   "id": "8ac24a1e-35f8-4573-9ffa-81ec500e98ba",
   "metadata": {},
   "source": [
    "Processed dataset from [Part 1](https://github.com/johnwslee/fine_dust_analysis) will be used as raw data for study."
   ]
  },
  {
   "cell_type": "code",
   "execution_count": 2,
   "id": "bf5d161d-67bd-4130-b5f4-f47e462ca958",
   "metadata": {},
   "outputs": [],
   "source": [
    "df = pd.read_csv(\n",
    "    \"../data/seoul_fine_dust_weather_2008_2021_for_ml.csv\",\n",
    "    index_col=0,\n",
    "    parse_dates=True,\n",
    ").reset_index()"
   ]
  },
  {
   "cell_type": "code",
   "execution_count": 3,
   "id": "78c4d8f9-7c11-4330-9ff8-7a6d93c1a228",
   "metadata": {},
   "outputs": [
    {
     "data": {
      "text/html": [
       "<div>\n",
       "<style scoped>\n",
       "    .dataframe tbody tr th:only-of-type {\n",
       "        vertical-align: middle;\n",
       "    }\n",
       "\n",
       "    .dataframe tbody tr th {\n",
       "        vertical-align: top;\n",
       "    }\n",
       "\n",
       "    .dataframe thead th {\n",
       "        text-align: right;\n",
       "    }\n",
       "</style>\n",
       "<table border=\"1\" class=\"dataframe\">\n",
       "  <thead>\n",
       "    <tr style=\"text-align: right;\">\n",
       "      <th></th>\n",
       "      <th>date</th>\n",
       "      <th>temp(°C)</th>\n",
       "      <th>precipitation(mm)</th>\n",
       "      <th>wind_speed(m/s)</th>\n",
       "      <th>wind_direction</th>\n",
       "      <th>humidity(%)</th>\n",
       "      <th>local_P(hPa)</th>\n",
       "      <th>cloud_cover</th>\n",
       "      <th>lowest_ceiling(100m)</th>\n",
       "      <th>month</th>\n",
       "      <th>PM10_Counts</th>\n",
       "      <th>PM25_Counts</th>\n",
       "      <th>log_PM10_Counts</th>\n",
       "      <th>log_PM25_Counts</th>\n",
       "    </tr>\n",
       "  </thead>\n",
       "  <tbody>\n",
       "    <tr>\n",
       "      <th>0</th>\n",
       "      <td>2008-01-01 10:00:00</td>\n",
       "      <td>-7.6</td>\n",
       "      <td>0.0</td>\n",
       "      <td>4.6</td>\n",
       "      <td>340.0</td>\n",
       "      <td>47.0</td>\n",
       "      <td>1010.7</td>\n",
       "      <td>2.0</td>\n",
       "      <td>12.0</td>\n",
       "      <td>1</td>\n",
       "      <td>30.0</td>\n",
       "      <td>11.0</td>\n",
       "      <td>3.433987</td>\n",
       "      <td>2.484907</td>\n",
       "    </tr>\n",
       "    <tr>\n",
       "      <th>1</th>\n",
       "      <td>2008-01-01 11:00:00</td>\n",
       "      <td>-6.9</td>\n",
       "      <td>0.0</td>\n",
       "      <td>4.1</td>\n",
       "      <td>290.0</td>\n",
       "      <td>42.0</td>\n",
       "      <td>1010.7</td>\n",
       "      <td>2.0</td>\n",
       "      <td>12.0</td>\n",
       "      <td>1</td>\n",
       "      <td>29.0</td>\n",
       "      <td>13.0</td>\n",
       "      <td>3.401197</td>\n",
       "      <td>2.639057</td>\n",
       "    </tr>\n",
       "    <tr>\n",
       "      <th>2</th>\n",
       "      <td>2008-01-01 12:00:00</td>\n",
       "      <td>-5.8</td>\n",
       "      <td>0.0</td>\n",
       "      <td>4.1</td>\n",
       "      <td>290.0</td>\n",
       "      <td>42.0</td>\n",
       "      <td>1010.7</td>\n",
       "      <td>2.0</td>\n",
       "      <td>12.0</td>\n",
       "      <td>1</td>\n",
       "      <td>29.0</td>\n",
       "      <td>12.0</td>\n",
       "      <td>3.401197</td>\n",
       "      <td>2.564949</td>\n",
       "    </tr>\n",
       "    <tr>\n",
       "      <th>3</th>\n",
       "      <td>2008-01-01 13:00:00</td>\n",
       "      <td>-5.0</td>\n",
       "      <td>0.0</td>\n",
       "      <td>4.1</td>\n",
       "      <td>290.0</td>\n",
       "      <td>36.0</td>\n",
       "      <td>1009.9</td>\n",
       "      <td>0.0</td>\n",
       "      <td>10.0</td>\n",
       "      <td>1</td>\n",
       "      <td>28.0</td>\n",
       "      <td>12.0</td>\n",
       "      <td>3.367296</td>\n",
       "      <td>2.564949</td>\n",
       "    </tr>\n",
       "    <tr>\n",
       "      <th>4</th>\n",
       "      <td>2008-01-01 14:00:00</td>\n",
       "      <td>-4.4</td>\n",
       "      <td>0.0</td>\n",
       "      <td>4.1</td>\n",
       "      <td>290.0</td>\n",
       "      <td>36.0</td>\n",
       "      <td>1009.9</td>\n",
       "      <td>0.0</td>\n",
       "      <td>10.0</td>\n",
       "      <td>1</td>\n",
       "      <td>27.0</td>\n",
       "      <td>13.0</td>\n",
       "      <td>3.332205</td>\n",
       "      <td>2.639057</td>\n",
       "    </tr>\n",
       "  </tbody>\n",
       "</table>\n",
       "</div>"
      ],
      "text/plain": [
       "                 date  temp(°C)  precipitation(mm)  wind_speed(m/s)  \\\n",
       "0 2008-01-01 10:00:00      -7.6                0.0              4.6   \n",
       "1 2008-01-01 11:00:00      -6.9                0.0              4.1   \n",
       "2 2008-01-01 12:00:00      -5.8                0.0              4.1   \n",
       "3 2008-01-01 13:00:00      -5.0                0.0              4.1   \n",
       "4 2008-01-01 14:00:00      -4.4                0.0              4.1   \n",
       "\n",
       "   wind_direction  humidity(%)  local_P(hPa)  cloud_cover  \\\n",
       "0           340.0         47.0        1010.7          2.0   \n",
       "1           290.0         42.0        1010.7          2.0   \n",
       "2           290.0         42.0        1010.7          2.0   \n",
       "3           290.0         36.0        1009.9          0.0   \n",
       "4           290.0         36.0        1009.9          0.0   \n",
       "\n",
       "   lowest_ceiling(100m)  month  PM10_Counts  PM25_Counts  log_PM10_Counts  \\\n",
       "0                  12.0      1         30.0         11.0         3.433987   \n",
       "1                  12.0      1         29.0         13.0         3.401197   \n",
       "2                  12.0      1         29.0         12.0         3.401197   \n",
       "3                  10.0      1         28.0         12.0         3.367296   \n",
       "4                  10.0      1         27.0         13.0         3.332205   \n",
       "\n",
       "   log_PM25_Counts  \n",
       "0         2.484907  \n",
       "1         2.639057  \n",
       "2         2.564949  \n",
       "3         2.564949  \n",
       "4         2.639057  "
      ]
     },
     "execution_count": 3,
     "metadata": {},
     "output_type": "execute_result"
    }
   ],
   "source": [
    "df.head()"
   ]
  },
  {
   "cell_type": "markdown",
   "id": "64f61738-548c-4dfd-a0bf-0be9295029b0",
   "metadata": {},
   "source": [
    "The dataset above will be transformed so that it can be used for multi-scale timeseries classification. In order to do so, `wind_direction`, `humidity(%)`, `lowest_ceiling(100m)`, `temp(°C)`, `wind_speed(m/s)`, `local_P(hPa)`, `precipitation(mm)`, and `PM10_Counts` will be used as features, whereas the binary target, `Air_is_bad?` will be generated based on `PM10_Counts` of the next day."
   ]
  },
  {
   "cell_type": "code",
   "execution_count": 4,
   "id": "99454136-5685-477d-8682-b859929592b5",
   "metadata": {},
   "outputs": [],
   "source": [
    "new_columns = [\n",
    "    \"date\",\n",
    "    \"wind_direction\",\n",
    "    \"humidity(%)\",\n",
    "    \"lowest_ceiling(100m)\",\n",
    "    \"temp(°C)\",\n",
    "    \"wind_speed(m/s)\",\n",
    "    \"local_P(hPa)\",\n",
    "    \"precipitation(mm)\",\n",
    "    \"PM10_Counts\",\n",
    "]"
   ]
  },
  {
   "cell_type": "code",
   "execution_count": 5,
   "id": "041f0731-4c90-4344-99e1-cf9b5c75581d",
   "metadata": {},
   "outputs": [],
   "source": [
    "df = df[new_columns]"
   ]
  },
  {
   "cell_type": "code",
   "execution_count": 6,
   "id": "1b6ca8d9-2525-474a-9871-ae977dd73df7",
   "metadata": {},
   "outputs": [
    {
     "data": {
      "text/html": [
       "<div>\n",
       "<style scoped>\n",
       "    .dataframe tbody tr th:only-of-type {\n",
       "        vertical-align: middle;\n",
       "    }\n",
       "\n",
       "    .dataframe tbody tr th {\n",
       "        vertical-align: top;\n",
       "    }\n",
       "\n",
       "    .dataframe thead th {\n",
       "        text-align: right;\n",
       "    }\n",
       "</style>\n",
       "<table border=\"1\" class=\"dataframe\">\n",
       "  <thead>\n",
       "    <tr style=\"text-align: right;\">\n",
       "      <th></th>\n",
       "      <th>date</th>\n",
       "      <th>wind_direction</th>\n",
       "      <th>humidity(%)</th>\n",
       "      <th>lowest_ceiling(100m)</th>\n",
       "      <th>temp(°C)</th>\n",
       "      <th>wind_speed(m/s)</th>\n",
       "      <th>local_P(hPa)</th>\n",
       "      <th>precipitation(mm)</th>\n",
       "      <th>PM10_Counts</th>\n",
       "    </tr>\n",
       "  </thead>\n",
       "  <tbody>\n",
       "    <tr>\n",
       "      <th>0</th>\n",
       "      <td>2008-01-01 10:00:00</td>\n",
       "      <td>340.0</td>\n",
       "      <td>47.0</td>\n",
       "      <td>12.0</td>\n",
       "      <td>-7.6</td>\n",
       "      <td>4.6</td>\n",
       "      <td>1010.7</td>\n",
       "      <td>0.0</td>\n",
       "      <td>30.0</td>\n",
       "    </tr>\n",
       "    <tr>\n",
       "      <th>1</th>\n",
       "      <td>2008-01-01 11:00:00</td>\n",
       "      <td>290.0</td>\n",
       "      <td>42.0</td>\n",
       "      <td>12.0</td>\n",
       "      <td>-6.9</td>\n",
       "      <td>4.1</td>\n",
       "      <td>1010.7</td>\n",
       "      <td>0.0</td>\n",
       "      <td>29.0</td>\n",
       "    </tr>\n",
       "    <tr>\n",
       "      <th>2</th>\n",
       "      <td>2008-01-01 12:00:00</td>\n",
       "      <td>290.0</td>\n",
       "      <td>42.0</td>\n",
       "      <td>12.0</td>\n",
       "      <td>-5.8</td>\n",
       "      <td>4.1</td>\n",
       "      <td>1010.7</td>\n",
       "      <td>0.0</td>\n",
       "      <td>29.0</td>\n",
       "    </tr>\n",
       "    <tr>\n",
       "      <th>3</th>\n",
       "      <td>2008-01-01 13:00:00</td>\n",
       "      <td>290.0</td>\n",
       "      <td>36.0</td>\n",
       "      <td>10.0</td>\n",
       "      <td>-5.0</td>\n",
       "      <td>4.1</td>\n",
       "      <td>1009.9</td>\n",
       "      <td>0.0</td>\n",
       "      <td>28.0</td>\n",
       "    </tr>\n",
       "    <tr>\n",
       "      <th>4</th>\n",
       "      <td>2008-01-01 14:00:00</td>\n",
       "      <td>290.0</td>\n",
       "      <td>36.0</td>\n",
       "      <td>10.0</td>\n",
       "      <td>-4.4</td>\n",
       "      <td>4.1</td>\n",
       "      <td>1009.9</td>\n",
       "      <td>0.0</td>\n",
       "      <td>27.0</td>\n",
       "    </tr>\n",
       "    <tr>\n",
       "      <th>...</th>\n",
       "      <td>...</td>\n",
       "      <td>...</td>\n",
       "      <td>...</td>\n",
       "      <td>...</td>\n",
       "      <td>...</td>\n",
       "      <td>...</td>\n",
       "      <td>...</td>\n",
       "      <td>...</td>\n",
       "      <td>...</td>\n",
       "    </tr>\n",
       "    <tr>\n",
       "      <th>122728</th>\n",
       "      <td>2021-12-31 05:00:00</td>\n",
       "      <td>270.0</td>\n",
       "      <td>39.0</td>\n",
       "      <td>10.0</td>\n",
       "      <td>-7.7</td>\n",
       "      <td>3.5</td>\n",
       "      <td>1018.5</td>\n",
       "      <td>0.0</td>\n",
       "      <td>25.0</td>\n",
       "    </tr>\n",
       "    <tr>\n",
       "      <th>122729</th>\n",
       "      <td>2021-12-31 06:00:00</td>\n",
       "      <td>290.0</td>\n",
       "      <td>40.0</td>\n",
       "      <td>10.0</td>\n",
       "      <td>-8.0</td>\n",
       "      <td>3.2</td>\n",
       "      <td>1019.2</td>\n",
       "      <td>0.0</td>\n",
       "      <td>23.0</td>\n",
       "    </tr>\n",
       "    <tr>\n",
       "      <th>122730</th>\n",
       "      <td>2021-12-31 07:00:00</td>\n",
       "      <td>270.0</td>\n",
       "      <td>42.0</td>\n",
       "      <td>10.0</td>\n",
       "      <td>-8.6</td>\n",
       "      <td>2.7</td>\n",
       "      <td>1019.9</td>\n",
       "      <td>0.0</td>\n",
       "      <td>22.0</td>\n",
       "    </tr>\n",
       "    <tr>\n",
       "      <th>122731</th>\n",
       "      <td>2021-12-31 08:00:00</td>\n",
       "      <td>270.0</td>\n",
       "      <td>42.0</td>\n",
       "      <td>10.0</td>\n",
       "      <td>-8.8</td>\n",
       "      <td>2.9</td>\n",
       "      <td>1020.8</td>\n",
       "      <td>0.0</td>\n",
       "      <td>22.0</td>\n",
       "    </tr>\n",
       "    <tr>\n",
       "      <th>122732</th>\n",
       "      <td>2021-12-31 09:00:00</td>\n",
       "      <td>270.0</td>\n",
       "      <td>40.0</td>\n",
       "      <td>10.0</td>\n",
       "      <td>-8.4</td>\n",
       "      <td>3.7</td>\n",
       "      <td>1021.2</td>\n",
       "      <td>0.0</td>\n",
       "      <td>22.0</td>\n",
       "    </tr>\n",
       "  </tbody>\n",
       "</table>\n",
       "<p>122733 rows × 9 columns</p>\n",
       "</div>"
      ],
      "text/plain": [
       "                      date  wind_direction  humidity(%)  lowest_ceiling(100m)  \\\n",
       "0      2008-01-01 10:00:00           340.0         47.0                  12.0   \n",
       "1      2008-01-01 11:00:00           290.0         42.0                  12.0   \n",
       "2      2008-01-01 12:00:00           290.0         42.0                  12.0   \n",
       "3      2008-01-01 13:00:00           290.0         36.0                  10.0   \n",
       "4      2008-01-01 14:00:00           290.0         36.0                  10.0   \n",
       "...                    ...             ...          ...                   ...   \n",
       "122728 2021-12-31 05:00:00           270.0         39.0                  10.0   \n",
       "122729 2021-12-31 06:00:00           290.0         40.0                  10.0   \n",
       "122730 2021-12-31 07:00:00           270.0         42.0                  10.0   \n",
       "122731 2021-12-31 08:00:00           270.0         42.0                  10.0   \n",
       "122732 2021-12-31 09:00:00           270.0         40.0                  10.0   \n",
       "\n",
       "        temp(°C)  wind_speed(m/s)  local_P(hPa)  precipitation(mm)  \\\n",
       "0           -7.6              4.6        1010.7                0.0   \n",
       "1           -6.9              4.1        1010.7                0.0   \n",
       "2           -5.8              4.1        1010.7                0.0   \n",
       "3           -5.0              4.1        1009.9                0.0   \n",
       "4           -4.4              4.1        1009.9                0.0   \n",
       "...          ...              ...           ...                ...   \n",
       "122728      -7.7              3.5        1018.5                0.0   \n",
       "122729      -8.0              3.2        1019.2                0.0   \n",
       "122730      -8.6              2.7        1019.9                0.0   \n",
       "122731      -8.8              2.9        1020.8                0.0   \n",
       "122732      -8.4              3.7        1021.2                0.0   \n",
       "\n",
       "        PM10_Counts  \n",
       "0              30.0  \n",
       "1              29.0  \n",
       "2              29.0  \n",
       "3              28.0  \n",
       "4              27.0  \n",
       "...             ...  \n",
       "122728         25.0  \n",
       "122729         23.0  \n",
       "122730         22.0  \n",
       "122731         22.0  \n",
       "122732         22.0  \n",
       "\n",
       "[122733 rows x 9 columns]"
      ]
     },
     "execution_count": 6,
     "metadata": {},
     "output_type": "execute_result"
    }
   ],
   "source": [
    "df"
   ]
  },
  {
   "cell_type": "markdown",
   "id": "84e5f1f6-1d96-414e-9432-642fc9f08343",
   "metadata": {},
   "source": [
    "Since the time starts from 10 for 2008-01-01, the dataset should start from 2008-01-02 so that all features have equal length of data per day. The same goes for 2021-12-31. So Feature will range from 2008-01-02 to 2021-12-29, while it will be from 2008-01-03 to 2021-12-30 for target."
   ]
  },
  {
   "cell_type": "markdown",
   "id": "374404a2-0010-4f7d-b25a-ee021fcb2ff0",
   "metadata": {},
   "source": [
    "## 1.2. Target Preparation"
   ]
  },
  {
   "cell_type": "code",
   "execution_count": 7,
   "id": "f5ad6a13-a4f0-4f31-b765-e011e3c089dd",
   "metadata": {},
   "outputs": [
    {
     "data": {
      "text/plain": [
       "46562"
      ]
     },
     "execution_count": 7,
     "metadata": {},
     "output_type": "execute_result"
    }
   ],
   "source": [
    "df.loc[df[\"PM10_Counts\"] > 45].shape[0]"
   ]
  },
  {
   "cell_type": "code",
   "execution_count": 8,
   "id": "2835a72b-5cbf-4105-89ea-5502e0021215",
   "metadata": {},
   "outputs": [
    {
     "data": {
      "text/plain": [
       "122733"
      ]
     },
     "execution_count": 8,
     "metadata": {},
     "output_type": "execute_result"
    }
   ],
   "source": [
    "df.shape[0]"
   ]
  },
  {
   "cell_type": "code",
   "execution_count": 9,
   "id": "6307e271-11d6-4ba2-9887-a0699c54eb9b",
   "metadata": {},
   "outputs": [],
   "source": [
    "pm10_count = df[[\"date\", \"PM10_Counts\"]]"
   ]
  },
  {
   "cell_type": "code",
   "execution_count": 10,
   "id": "712ccbcd-7570-4ef2-bcb3-80ccff675ba6",
   "metadata": {},
   "outputs": [
    {
     "data": {
      "text/html": [
       "<div>\n",
       "<style scoped>\n",
       "    .dataframe tbody tr th:only-of-type {\n",
       "        vertical-align: middle;\n",
       "    }\n",
       "\n",
       "    .dataframe tbody tr th {\n",
       "        vertical-align: top;\n",
       "    }\n",
       "\n",
       "    .dataframe thead th {\n",
       "        text-align: right;\n",
       "    }\n",
       "</style>\n",
       "<table border=\"1\" class=\"dataframe\">\n",
       "  <thead>\n",
       "    <tr style=\"text-align: right;\">\n",
       "      <th></th>\n",
       "      <th>date</th>\n",
       "      <th>PM10_Counts</th>\n",
       "    </tr>\n",
       "  </thead>\n",
       "  <tbody>\n",
       "    <tr>\n",
       "      <th>0</th>\n",
       "      <td>2008-01-01 10:00:00</td>\n",
       "      <td>30.0</td>\n",
       "    </tr>\n",
       "    <tr>\n",
       "      <th>1</th>\n",
       "      <td>2008-01-01 11:00:00</td>\n",
       "      <td>29.0</td>\n",
       "    </tr>\n",
       "    <tr>\n",
       "      <th>2</th>\n",
       "      <td>2008-01-01 12:00:00</td>\n",
       "      <td>29.0</td>\n",
       "    </tr>\n",
       "    <tr>\n",
       "      <th>3</th>\n",
       "      <td>2008-01-01 13:00:00</td>\n",
       "      <td>28.0</td>\n",
       "    </tr>\n",
       "    <tr>\n",
       "      <th>4</th>\n",
       "      <td>2008-01-01 14:00:00</td>\n",
       "      <td>27.0</td>\n",
       "    </tr>\n",
       "    <tr>\n",
       "      <th>...</th>\n",
       "      <td>...</td>\n",
       "      <td>...</td>\n",
       "    </tr>\n",
       "    <tr>\n",
       "      <th>122728</th>\n",
       "      <td>2021-12-31 05:00:00</td>\n",
       "      <td>25.0</td>\n",
       "    </tr>\n",
       "    <tr>\n",
       "      <th>122729</th>\n",
       "      <td>2021-12-31 06:00:00</td>\n",
       "      <td>23.0</td>\n",
       "    </tr>\n",
       "    <tr>\n",
       "      <th>122730</th>\n",
       "      <td>2021-12-31 07:00:00</td>\n",
       "      <td>22.0</td>\n",
       "    </tr>\n",
       "    <tr>\n",
       "      <th>122731</th>\n",
       "      <td>2021-12-31 08:00:00</td>\n",
       "      <td>22.0</td>\n",
       "    </tr>\n",
       "    <tr>\n",
       "      <th>122732</th>\n",
       "      <td>2021-12-31 09:00:00</td>\n",
       "      <td>22.0</td>\n",
       "    </tr>\n",
       "  </tbody>\n",
       "</table>\n",
       "<p>122733 rows × 2 columns</p>\n",
       "</div>"
      ],
      "text/plain": [
       "                      date  PM10_Counts\n",
       "0      2008-01-01 10:00:00         30.0\n",
       "1      2008-01-01 11:00:00         29.0\n",
       "2      2008-01-01 12:00:00         29.0\n",
       "3      2008-01-01 13:00:00         28.0\n",
       "4      2008-01-01 14:00:00         27.0\n",
       "...                    ...          ...\n",
       "122728 2021-12-31 05:00:00         25.0\n",
       "122729 2021-12-31 06:00:00         23.0\n",
       "122730 2021-12-31 07:00:00         22.0\n",
       "122731 2021-12-31 08:00:00         22.0\n",
       "122732 2021-12-31 09:00:00         22.0\n",
       "\n",
       "[122733 rows x 2 columns]"
      ]
     },
     "execution_count": 10,
     "metadata": {},
     "output_type": "execute_result"
    }
   ],
   "source": [
    "pm10_count"
   ]
  },
  {
   "cell_type": "code",
   "execution_count": 11,
   "id": "fd04b5bf-9175-422b-ba58-2f22f84ce533",
   "metadata": {},
   "outputs": [],
   "source": [
    "pm10_count[\"date_new\"] = pm10_count[\"date\"].dt.date"
   ]
  },
  {
   "cell_type": "code",
   "execution_count": 12,
   "id": "adda68ed-62c4-4b5a-bbd4-7f5c1d2290cc",
   "metadata": {},
   "outputs": [],
   "source": [
    "target = pm10_count.groupby(\"date_new\").mean().reset_index()"
   ]
  },
  {
   "cell_type": "code",
   "execution_count": 13,
   "id": "fb422a12-30f7-47b4-826b-5a2f88c1198e",
   "metadata": {},
   "outputs": [],
   "source": [
    "target[\"date_new\"] = pd.to_datetime(target[\"date_new\"])"
   ]
  },
  {
   "cell_type": "code",
   "execution_count": 14,
   "id": "d521ea63-70bd-4849-bedd-18e323f77364",
   "metadata": {},
   "outputs": [],
   "source": [
    "target[\"Air_is_bad?\"] = np.where(target[\"PM10_Counts\"] >= 45, 1, 0)"
   ]
  },
  {
   "cell_type": "code",
   "execution_count": 15,
   "id": "46e733db-76ec-4f3a-bf23-4e63c2141009",
   "metadata": {},
   "outputs": [],
   "source": [
    "target = target[[\"date_new\", \"Air_is_bad?\"]]"
   ]
  },
  {
   "cell_type": "code",
   "execution_count": 16,
   "id": "8c7ae608-0b86-4a33-94df-57f5da8d4b10",
   "metadata": {},
   "outputs": [],
   "source": [
    "target = target.loc[\n",
    "    (target[\"date_new\"].dt.date >= datetime.date(2008, 1, 3))\n",
    "    & (target[\"date_new\"].dt.date <= datetime.date(2021, 12, 30))\n",
    "].reset_index(drop=True)"
   ]
  },
  {
   "cell_type": "code",
   "execution_count": 17,
   "id": "28cdba5d-8143-4ea1-993b-b90b926a928a",
   "metadata": {},
   "outputs": [
    {
     "data": {
      "text/html": [
       "<div>\n",
       "<style scoped>\n",
       "    .dataframe tbody tr th:only-of-type {\n",
       "        vertical-align: middle;\n",
       "    }\n",
       "\n",
       "    .dataframe tbody tr th {\n",
       "        vertical-align: top;\n",
       "    }\n",
       "\n",
       "    .dataframe thead th {\n",
       "        text-align: right;\n",
       "    }\n",
       "</style>\n",
       "<table border=\"1\" class=\"dataframe\">\n",
       "  <thead>\n",
       "    <tr style=\"text-align: right;\">\n",
       "      <th></th>\n",
       "      <th>date_new</th>\n",
       "      <th>Air_is_bad?</th>\n",
       "    </tr>\n",
       "  </thead>\n",
       "  <tbody>\n",
       "    <tr>\n",
       "      <th>0</th>\n",
       "      <td>2008-01-03</td>\n",
       "      <td>1</td>\n",
       "    </tr>\n",
       "    <tr>\n",
       "      <th>1</th>\n",
       "      <td>2008-01-04</td>\n",
       "      <td>1</td>\n",
       "    </tr>\n",
       "    <tr>\n",
       "      <th>2</th>\n",
       "      <td>2008-01-05</td>\n",
       "      <td>1</td>\n",
       "    </tr>\n",
       "    <tr>\n",
       "      <th>3</th>\n",
       "      <td>2008-01-06</td>\n",
       "      <td>1</td>\n",
       "    </tr>\n",
       "    <tr>\n",
       "      <th>4</th>\n",
       "      <td>2008-01-07</td>\n",
       "      <td>1</td>\n",
       "    </tr>\n",
       "    <tr>\n",
       "      <th>...</th>\n",
       "      <td>...</td>\n",
       "      <td>...</td>\n",
       "    </tr>\n",
       "    <tr>\n",
       "      <th>5106</th>\n",
       "      <td>2021-12-26</td>\n",
       "      <td>0</td>\n",
       "    </tr>\n",
       "    <tr>\n",
       "      <th>5107</th>\n",
       "      <td>2021-12-27</td>\n",
       "      <td>0</td>\n",
       "    </tr>\n",
       "    <tr>\n",
       "      <th>5108</th>\n",
       "      <td>2021-12-28</td>\n",
       "      <td>1</td>\n",
       "    </tr>\n",
       "    <tr>\n",
       "      <th>5109</th>\n",
       "      <td>2021-12-29</td>\n",
       "      <td>1</td>\n",
       "    </tr>\n",
       "    <tr>\n",
       "      <th>5110</th>\n",
       "      <td>2021-12-30</td>\n",
       "      <td>0</td>\n",
       "    </tr>\n",
       "  </tbody>\n",
       "</table>\n",
       "<p>5111 rows × 2 columns</p>\n",
       "</div>"
      ],
      "text/plain": [
       "       date_new  Air_is_bad?\n",
       "0    2008-01-03            1\n",
       "1    2008-01-04            1\n",
       "2    2008-01-05            1\n",
       "3    2008-01-06            1\n",
       "4    2008-01-07            1\n",
       "...         ...          ...\n",
       "5106 2021-12-26            0\n",
       "5107 2021-12-27            0\n",
       "5108 2021-12-28            1\n",
       "5109 2021-12-29            1\n",
       "5110 2021-12-30            0\n",
       "\n",
       "[5111 rows x 2 columns]"
      ]
     },
     "execution_count": 17,
     "metadata": {},
     "output_type": "execute_result"
    }
   ],
   "source": [
    "target"
   ]
  },
  {
   "cell_type": "markdown",
   "id": "e2ab5bce-7e96-47b7-bff6-1e58aefc4851",
   "metadata": {},
   "source": [
    "## 1.3. Feature Preparation"
   ]
  },
  {
   "cell_type": "markdown",
   "id": "a391b3b0-698b-481a-95a8-5c19c023e1d1",
   "metadata": {},
   "source": [
    "The dataframe will be splitted into train and test set based on the year of 2016. The only reason why the data is splited now is to avoid fitting `StandardScaler()` on test data."
   ]
  },
  {
   "cell_type": "code",
   "execution_count": 18,
   "id": "7be59dc4-8eba-4e8e-9498-3b9a1f3f13c6",
   "metadata": {},
   "outputs": [],
   "source": [
    "train_df = df.loc[df[\"date\"].dt.date < datetime.date(2016, 1, 1)]\n",
    "test_df = df.loc[df[\"date\"].dt.date >= datetime.date(2016, 1, 1)]"
   ]
  },
  {
   "cell_type": "code",
   "execution_count": 19,
   "id": "1fb068bb-da45-44a5-ae6e-ed083a7ee260",
   "metadata": {},
   "outputs": [],
   "source": [
    "feature_names = list(df.columns[1:])"
   ]
  },
  {
   "cell_type": "code",
   "execution_count": 20,
   "id": "0a784da7-60d9-4433-8825-4b76a928bdd3",
   "metadata": {},
   "outputs": [],
   "source": [
    "scaler = StandardScaler()"
   ]
  },
  {
   "cell_type": "code",
   "execution_count": 21,
   "id": "0d759dfd-d6f6-4519-9cc4-71fa45e96b4f",
   "metadata": {},
   "outputs": [],
   "source": [
    "train_df[feature_names] = scaler.fit_transform(train_df[feature_names])"
   ]
  },
  {
   "cell_type": "code",
   "execution_count": 22,
   "id": "c600be03-155c-4b89-b5e9-2e2f07f504ed",
   "metadata": {},
   "outputs": [],
   "source": [
    "test_df[feature_names] = scaler.transform(test_df[feature_names])"
   ]
  },
  {
   "cell_type": "markdown",
   "id": "a282959c-b008-419e-afa2-bc64536468f4",
   "metadata": {},
   "source": [
    "The train/test df will be concatenated again just for convenience of dataset preparation."
   ]
  },
  {
   "cell_type": "code",
   "execution_count": 23,
   "id": "bdacb460-eebe-4a5e-802b-d0c710443900",
   "metadata": {},
   "outputs": [
    {
     "data": {
      "text/plain": [
       "['../models/scaler.pkl']"
      ]
     },
     "execution_count": 23,
     "metadata": {},
     "output_type": "execute_result"
    }
   ],
   "source": [
    "joblib.dump(scaler, \"../models/scaler.pkl\")"
   ]
  },
  {
   "cell_type": "code",
   "execution_count": 24,
   "id": "7f393522-5bf4-412a-a172-cd1fa07d8905",
   "metadata": {},
   "outputs": [],
   "source": [
    "features = pd.concat([train_df, test_df], axis=0)"
   ]
  },
  {
   "cell_type": "code",
   "execution_count": 25,
   "id": "d9af4db7-d70d-40fc-8efa-e015ef4d745e",
   "metadata": {},
   "outputs": [],
   "source": [
    "features[\"date_new\"] = features[\"date\"].dt.date"
   ]
  },
  {
   "cell_type": "code",
   "execution_count": 26,
   "id": "c9929c93-a31d-4680-b4aa-1725e64bb90e",
   "metadata": {},
   "outputs": [],
   "source": [
    "features = (\n",
    "    features.groupby(\"date_new\")\n",
    "    .agg(list)[\n",
    "        [\n",
    "            \"wind_direction\",\n",
    "            \"humidity(%)\",\n",
    "            \"lowest_ceiling(100m)\",\n",
    "            \"temp(°C)\",\n",
    "            \"wind_speed(m/s)\",\n",
    "            \"local_P(hPa)\",\n",
    "            \"precipitation(mm)\",\n",
    "            \"PM10_Counts\",\n",
    "        ]\n",
    "    ]\n",
    "    .reset_index()\n",
    ")"
   ]
  },
  {
   "cell_type": "code",
   "execution_count": 27,
   "id": "88e070c0-3f25-4dd6-954d-a47453162799",
   "metadata": {},
   "outputs": [],
   "source": [
    "features[\"date_new\"] = pd.to_datetime(features[\"date_new\"])"
   ]
  },
  {
   "cell_type": "code",
   "execution_count": 28,
   "id": "aa88c6b9-1058-486e-8cb7-8bbdb3525bfe",
   "metadata": {},
   "outputs": [],
   "source": [
    "features = features.loc[\n",
    "    (features[\"date_new\"].dt.date >= datetime.date(2008, 1, 2))\n",
    "    & (features[\"date_new\"].dt.date <= datetime.date(2021, 12, 29))\n",
    "].reset_index(drop=True)"
   ]
  },
  {
   "cell_type": "code",
   "execution_count": 29,
   "id": "4a255bdf-530f-4ff6-bb80-b11f4ec3d442",
   "metadata": {},
   "outputs": [
    {
     "data": {
      "text/html": [
       "<div>\n",
       "<style scoped>\n",
       "    .dataframe tbody tr th:only-of-type {\n",
       "        vertical-align: middle;\n",
       "    }\n",
       "\n",
       "    .dataframe tbody tr th {\n",
       "        vertical-align: top;\n",
       "    }\n",
       "\n",
       "    .dataframe thead th {\n",
       "        text-align: right;\n",
       "    }\n",
       "</style>\n",
       "<table border=\"1\" class=\"dataframe\">\n",
       "  <thead>\n",
       "    <tr style=\"text-align: right;\">\n",
       "      <th></th>\n",
       "      <th>date_new</th>\n",
       "      <th>wind_direction</th>\n",
       "      <th>humidity(%)</th>\n",
       "      <th>lowest_ceiling(100m)</th>\n",
       "      <th>temp(°C)</th>\n",
       "      <th>wind_speed(m/s)</th>\n",
       "      <th>local_P(hPa)</th>\n",
       "      <th>precipitation(mm)</th>\n",
       "      <th>PM10_Counts</th>\n",
       "    </tr>\n",
       "  </thead>\n",
       "  <tbody>\n",
       "    <tr>\n",
       "      <th>0</th>\n",
       "      <td>2008-01-02</td>\n",
       "      <td>[0.924452475006894, 1.1974764438963235, 1.1974...</td>\n",
       "      <td>[-0.16491600114460359, -0.665906724059201, -0....</td>\n",
       "      <td>[-0.5452500390488106, -0.5452500390488106, -0....</td>\n",
       "      <td>[-1.7379632433239907, -1.62958516404385, -1.53...</td>\n",
       "      <td>[-0.5164077188699413, 0.11713131692002768, 0.1...</td>\n",
       "      <td>[0.9043753409882764, 1.1817998051850536, 1.181...</td>\n",
       "      <td>[-0.11906781300263639, -0.11906781300263639, -...</td>\n",
       "      <td>[-0.32022983414764833, -0.15608473051877228, -...</td>\n",
       "    </tr>\n",
       "    <tr>\n",
       "      <th>1</th>\n",
       "      <td>2008-01-03</td>\n",
       "      <td>[-1.7147792242575914, -1.2597392761085422, -1....</td>\n",
       "      <td>[-0.06471785656168408, -0.11481692885314383, -...</td>\n",
       "      <td>[-0.22368526895253332, -0.8668148091450879, -0...</td>\n",
       "      <td>[-1.3496084592368196, -1.1870413403166087, -1....</td>\n",
       "      <td>[-1.8538790166487649, -0.6571941712677122, -0....</td>\n",
       "      <td>[1.1187487905948783, 0.7782733118079257, 0.778...</td>\n",
       "      <td>[-0.11906781300263639, -0.11906781300263639, -...</td>\n",
       "      <td>[-0.15608473051877228, 0.19956299401045927, 0....</td>\n",
       "    </tr>\n",
       "    <tr>\n",
       "      <th>2</th>\n",
       "      <td>2008-01-04</td>\n",
       "      <td>[0.924452475006894, -1.5327632449979716, 1.379...</td>\n",
       "      <td>[0.035480288021235415, -0.01461878427022433, -...</td>\n",
       "      <td>[-0.8668148091450879, -0.8668148091450879, -0....</td>\n",
       "      <td>[-1.2231673667433223, -1.2592933931700356, -1....</td>\n",
       "      <td>[0.046738090721142475, -0.5164077188699413, -1...</td>\n",
       "      <td>[1.1817998051850536, 1.3331222402014657, 1.333...</td>\n",
       "      <td>[-0.11906781300263639, -0.11906781300263639, -...</td>\n",
       "      <td>[0.500495683996732, 1.1570760985122364, 1.4032...</td>\n",
       "    </tr>\n",
       "    <tr>\n",
       "      <th>3</th>\n",
       "      <td>2008-01-05</td>\n",
       "      <td>[0.7424364957472743, -1.5327632449979716, -1.2...</td>\n",
       "      <td>[-0.6158076517677413, 0.035480288021235415, -0...</td>\n",
       "      <td>[-0.5452500390488106, -0.5452500390488106, -0....</td>\n",
       "      <td>[-1.1328523006765383, -1.12382079406986, -0.97...</td>\n",
       "      <td>[-0.9387670760632539, -0.6571941712677122, -1....</td>\n",
       "      <td>[0.9548161526604138, 0.9043753409882764, 0.904...</td>\n",
       "      <td>[-0.11906781300263639, -0.11906781300263639, -...</td>\n",
       "      <td>[0.500495683996732, 0.9929309948833603, 1.4032...</td>\n",
       "    </tr>\n",
       "    <tr>\n",
       "      <th>4</th>\n",
       "      <td>2008-01-06</td>\n",
       "      <td>[-1.5327632449979716, -0.8957073175893028, -0....</td>\n",
       "      <td>[0.8871645169760511, 0.5364710109358329, 0.436...</td>\n",
       "      <td>[-0.4380617823500515, -0.974003065843847, -0.9...</td>\n",
       "      <td>[-1.0515687412164327, -0.8619071024761865, -0....</td>\n",
       "      <td>[-1.0091603022621394, -1.0795535284610247, -1....</td>\n",
       "      <td>[0.9548161526604138, 0.9043753409882764, 0.904...</td>\n",
       "      <td>[-0.11906781300263639, -0.11906781300263639, -...</td>\n",
       "      <td>[0.36370809763933537, 1.512723823041468, 1.649...</td>\n",
       "    </tr>\n",
       "    <tr>\n",
       "      <th>...</th>\n",
       "      <td>...</td>\n",
       "      <td>...</td>\n",
       "      <td>...</td>\n",
       "      <td>...</td>\n",
       "      <td>...</td>\n",
       "      <td>...</td>\n",
       "      <td>...</td>\n",
       "      <td>...</td>\n",
       "      <td>...</td>\n",
       "    </tr>\n",
       "    <tr>\n",
       "      <th>5106</th>\n",
       "      <td>2021-12-25</td>\n",
       "      <td>[0.924452475006894, 0.924452475006894, 0.74243...</td>\n",
       "      <td>[-0.4655104348933621, -0.9164020855164998, -1....</td>\n",
       "      <td>[-0.11649701225377423, -0.11649701225377423, -...</td>\n",
       "      <td>[-1.8102152961774178, -2.252759119904659, -2.1...</td>\n",
       "      <td>[1.5953890670966224, 0.609883900312226, 0.6802...</td>\n",
       "      <td>[1.2700712256112905, 2.039293603611432, 2.0392...</td>\n",
       "      <td>[-0.11906781300263639, -0.11906781300263639, -...</td>\n",
       "      <td>[-0.21079976506173095, -0.7853076277627973, -0...</td>\n",
       "    </tr>\n",
       "    <tr>\n",
       "      <th>5107</th>\n",
       "      <td>2021-12-26</td>\n",
       "      <td>[0.7424364957472743, 0.7424364957472743, 0.924...</td>\n",
       "      <td>[-0.7160057963506608, -0.8162039409335803, -0....</td>\n",
       "      <td>[-0.11649701225377423, -0.11649701225377423, -...</td>\n",
       "      <td>[-2.451452265251584, -2.388231719004835, -2.29...</td>\n",
       "      <td>[-0.3756212664721703, 0.6802771265111115, 0.18...</td>\n",
       "      <td>[2.3671588794803324, 2.518481314496759, 2.4680...</td>\n",
       "      <td>[-0.11906781300263639, -0.11906781300263639, -...</td>\n",
       "      <td>[-0.8126651450342767, -0.9494527313916734, -0....</td>\n",
       "    </tr>\n",
       "    <tr>\n",
       "      <th>5108</th>\n",
       "      <td>2021-12-27</td>\n",
       "      <td>[1.1974764438963235, -1.2597392761085422, -0.8...</td>\n",
       "      <td>[-0.36531229031044254, -0.31521321801898283, -...</td>\n",
       "      <td>[-0.11649701225377423, -0.11649701225377423, -...</td>\n",
       "      <td>[-2.2437276132979806, -1.9185933754575586, -1....</td>\n",
       "      <td>[-0.23483481407439957, -0.5164077188699413, -0...</td>\n",
       "      <td>[2.1275650240376835, 1.963632386103219, 1.9258...</td>\n",
       "      <td>[-0.11906781300263639, -0.11906781300263639, -...</td>\n",
       "      <td>[-0.8673801795772353, -0.48437493777652446, -0...</td>\n",
       "    </tr>\n",
       "    <tr>\n",
       "      <th>5109</th>\n",
       "      <td>2021-12-28</td>\n",
       "      <td>[-1.5327632449979716, -1.2597392761085422, -1....</td>\n",
       "      <td>[1.1376598784333498, 1.0374617338504304, 0.636...</td>\n",
       "      <td>[-0.3308735256512924, -0.3308735256512924, -0....</td>\n",
       "      <td>[-1.7199002301106339, -1.6657111904705635, -1....</td>\n",
       "      <td>[-0.30522804027328476, -0.3756212664721703, -0...</td>\n",
       "      <td>[1.7114283277425177, 1.7240385306605557, 1.686...</td>\n",
       "      <td>[-0.11906781300263639, -0.11906781300263639, -...</td>\n",
       "      <td>[-0.18344224779025162, 0.06277540765306251, 0....</td>\n",
       "    </tr>\n",
       "    <tr>\n",
       "      <th>5110</th>\n",
       "      <td>2021-12-29</td>\n",
       "      <td>[-1.5327632449979716, -1.0777232968489225, -1....</td>\n",
       "      <td>[0.8871645169760511, 1.0374617338504304, 0.887...</td>\n",
       "      <td>[-0.11649701225377423, -0.4380617823500515, -0...</td>\n",
       "      <td>[-1.4399235253036036, -1.1328523006765383, -1....</td>\n",
       "      <td>[-0.7275873974665975, -1.0091603022621394, -0....</td>\n",
       "      <td>[0.9800365584964896, 0.43779783302097325, 0.39...</td>\n",
       "      <td>[-0.11906781300263639, -0.11906781300263639, -...</td>\n",
       "      <td>[0.14484795946750056, 0.36370809763933537, 0.5...</td>\n",
       "    </tr>\n",
       "  </tbody>\n",
       "</table>\n",
       "<p>5111 rows × 9 columns</p>\n",
       "</div>"
      ],
      "text/plain": [
       "       date_new                                     wind_direction  \\\n",
       "0    2008-01-02  [0.924452475006894, 1.1974764438963235, 1.1974...   \n",
       "1    2008-01-03  [-1.7147792242575914, -1.2597392761085422, -1....   \n",
       "2    2008-01-04  [0.924452475006894, -1.5327632449979716, 1.379...   \n",
       "3    2008-01-05  [0.7424364957472743, -1.5327632449979716, -1.2...   \n",
       "4    2008-01-06  [-1.5327632449979716, -0.8957073175893028, -0....   \n",
       "...         ...                                                ...   \n",
       "5106 2021-12-25  [0.924452475006894, 0.924452475006894, 0.74243...   \n",
       "5107 2021-12-26  [0.7424364957472743, 0.7424364957472743, 0.924...   \n",
       "5108 2021-12-27  [1.1974764438963235, -1.2597392761085422, -0.8...   \n",
       "5109 2021-12-28  [-1.5327632449979716, -1.2597392761085422, -1....   \n",
       "5110 2021-12-29  [-1.5327632449979716, -1.0777232968489225, -1....   \n",
       "\n",
       "                                            humidity(%)  \\\n",
       "0     [-0.16491600114460359, -0.665906724059201, -0....   \n",
       "1     [-0.06471785656168408, -0.11481692885314383, -...   \n",
       "2     [0.035480288021235415, -0.01461878427022433, -...   \n",
       "3     [-0.6158076517677413, 0.035480288021235415, -0...   \n",
       "4     [0.8871645169760511, 0.5364710109358329, 0.436...   \n",
       "...                                                 ...   \n",
       "5106  [-0.4655104348933621, -0.9164020855164998, -1....   \n",
       "5107  [-0.7160057963506608, -0.8162039409335803, -0....   \n",
       "5108  [-0.36531229031044254, -0.31521321801898283, -...   \n",
       "5109  [1.1376598784333498, 1.0374617338504304, 0.636...   \n",
       "5110  [0.8871645169760511, 1.0374617338504304, 0.887...   \n",
       "\n",
       "                                   lowest_ceiling(100m)  \\\n",
       "0     [-0.5452500390488106, -0.5452500390488106, -0....   \n",
       "1     [-0.22368526895253332, -0.8668148091450879, -0...   \n",
       "2     [-0.8668148091450879, -0.8668148091450879, -0....   \n",
       "3     [-0.5452500390488106, -0.5452500390488106, -0....   \n",
       "4     [-0.4380617823500515, -0.974003065843847, -0.9...   \n",
       "...                                                 ...   \n",
       "5106  [-0.11649701225377423, -0.11649701225377423, -...   \n",
       "5107  [-0.11649701225377423, -0.11649701225377423, -...   \n",
       "5108  [-0.11649701225377423, -0.11649701225377423, -...   \n",
       "5109  [-0.3308735256512924, -0.3308735256512924, -0....   \n",
       "5110  [-0.11649701225377423, -0.4380617823500515, -0...   \n",
       "\n",
       "                                               temp(°C)  \\\n",
       "0     [-1.7379632433239907, -1.62958516404385, -1.53...   \n",
       "1     [-1.3496084592368196, -1.1870413403166087, -1....   \n",
       "2     [-1.2231673667433223, -1.2592933931700356, -1....   \n",
       "3     [-1.1328523006765383, -1.12382079406986, -0.97...   \n",
       "4     [-1.0515687412164327, -0.8619071024761865, -0....   \n",
       "...                                                 ...   \n",
       "5106  [-1.8102152961774178, -2.252759119904659, -2.1...   \n",
       "5107  [-2.451452265251584, -2.388231719004835, -2.29...   \n",
       "5108  [-2.2437276132979806, -1.9185933754575586, -1....   \n",
       "5109  [-1.7199002301106339, -1.6657111904705635, -1....   \n",
       "5110  [-1.4399235253036036, -1.1328523006765383, -1....   \n",
       "\n",
       "                                        wind_speed(m/s)  \\\n",
       "0     [-0.5164077188699413, 0.11713131692002768, 0.1...   \n",
       "1     [-1.8538790166487649, -0.6571941712677122, -0....   \n",
       "2     [0.046738090721142475, -0.5164077188699413, -1...   \n",
       "3     [-0.9387670760632539, -0.6571941712677122, -1....   \n",
       "4     [-1.0091603022621394, -1.0795535284610247, -1....   \n",
       "...                                                 ...   \n",
       "5106  [1.5953890670966224, 0.609883900312226, 0.6802...   \n",
       "5107  [-0.3756212664721703, 0.6802771265111115, 0.18...   \n",
       "5108  [-0.23483481407439957, -0.5164077188699413, -0...   \n",
       "5109  [-0.30522804027328476, -0.3756212664721703, -0...   \n",
       "5110  [-0.7275873974665975, -1.0091603022621394, -0....   \n",
       "\n",
       "                                           local_P(hPa)  \\\n",
       "0     [0.9043753409882764, 1.1817998051850536, 1.181...   \n",
       "1     [1.1187487905948783, 0.7782733118079257, 0.778...   \n",
       "2     [1.1817998051850536, 1.3331222402014657, 1.333...   \n",
       "3     [0.9548161526604138, 0.9043753409882764, 0.904...   \n",
       "4     [0.9548161526604138, 0.9043753409882764, 0.904...   \n",
       "...                                                 ...   \n",
       "5106  [1.2700712256112905, 2.039293603611432, 2.0392...   \n",
       "5107  [2.3671588794803324, 2.518481314496759, 2.4680...   \n",
       "5108  [2.1275650240376835, 1.963632386103219, 1.9258...   \n",
       "5109  [1.7114283277425177, 1.7240385306605557, 1.686...   \n",
       "5110  [0.9800365584964896, 0.43779783302097325, 0.39...   \n",
       "\n",
       "                                      precipitation(mm)  \\\n",
       "0     [-0.11906781300263639, -0.11906781300263639, -...   \n",
       "1     [-0.11906781300263639, -0.11906781300263639, -...   \n",
       "2     [-0.11906781300263639, -0.11906781300263639, -...   \n",
       "3     [-0.11906781300263639, -0.11906781300263639, -...   \n",
       "4     [-0.11906781300263639, -0.11906781300263639, -...   \n",
       "...                                                 ...   \n",
       "5106  [-0.11906781300263639, -0.11906781300263639, -...   \n",
       "5107  [-0.11906781300263639, -0.11906781300263639, -...   \n",
       "5108  [-0.11906781300263639, -0.11906781300263639, -...   \n",
       "5109  [-0.11906781300263639, -0.11906781300263639, -...   \n",
       "5110  [-0.11906781300263639, -0.11906781300263639, -...   \n",
       "\n",
       "                                            PM10_Counts  \n",
       "0     [-0.32022983414764833, -0.15608473051877228, -...  \n",
       "1     [-0.15608473051877228, 0.19956299401045927, 0....  \n",
       "2     [0.500495683996732, 1.1570760985122364, 1.4032...  \n",
       "3     [0.500495683996732, 0.9929309948833603, 1.4032...  \n",
       "4     [0.36370809763933537, 1.512723823041468, 1.649...  \n",
       "...                                                 ...  \n",
       "5106  [-0.21079976506173095, -0.7853076277627973, -0...  \n",
       "5107  [-0.8126651450342767, -0.9494527313916734, -0....  \n",
       "5108  [-0.8673801795772353, -0.48437493777652446, -0...  \n",
       "5109  [-0.18344224779025162, 0.06277540765306251, 0....  \n",
       "5110  [0.14484795946750056, 0.36370809763933537, 0.5...  \n",
       "\n",
       "[5111 rows x 9 columns]"
      ]
     },
     "execution_count": 29,
     "metadata": {},
     "output_type": "execute_result"
    }
   ],
   "source": [
    "features"
   ]
  },
  {
   "cell_type": "markdown",
   "id": "63d1f821-e1d7-4fd4-b2be-216e6f4c3dae",
   "metadata": {},
   "source": [
    "## 1.4. Concatenation of Features and Target"
   ]
  },
  {
   "cell_type": "code",
   "execution_count": 30,
   "id": "99e99638-f064-4daa-822e-79214a8ab21a",
   "metadata": {},
   "outputs": [],
   "source": [
    "data = pd.concat([features, target[\"Air_is_bad?\"]], axis=1)"
   ]
  },
  {
   "cell_type": "code",
   "execution_count": 31,
   "id": "aab73ecc-119b-4fc9-b225-4c9d2f96b3c9",
   "metadata": {},
   "outputs": [
    {
     "data": {
      "text/html": [
       "<div>\n",
       "<style scoped>\n",
       "    .dataframe tbody tr th:only-of-type {\n",
       "        vertical-align: middle;\n",
       "    }\n",
       "\n",
       "    .dataframe tbody tr th {\n",
       "        vertical-align: top;\n",
       "    }\n",
       "\n",
       "    .dataframe thead th {\n",
       "        text-align: right;\n",
       "    }\n",
       "</style>\n",
       "<table border=\"1\" class=\"dataframe\">\n",
       "  <thead>\n",
       "    <tr style=\"text-align: right;\">\n",
       "      <th></th>\n",
       "      <th>date_new</th>\n",
       "      <th>wind_direction</th>\n",
       "      <th>humidity(%)</th>\n",
       "      <th>lowest_ceiling(100m)</th>\n",
       "      <th>temp(°C)</th>\n",
       "      <th>wind_speed(m/s)</th>\n",
       "      <th>local_P(hPa)</th>\n",
       "      <th>precipitation(mm)</th>\n",
       "      <th>PM10_Counts</th>\n",
       "      <th>Air_is_bad?</th>\n",
       "    </tr>\n",
       "  </thead>\n",
       "  <tbody>\n",
       "    <tr>\n",
       "      <th>0</th>\n",
       "      <td>2008-01-02</td>\n",
       "      <td>[0.924452475006894, 1.1974764438963235, 1.1974...</td>\n",
       "      <td>[-0.16491600114460359, -0.665906724059201, -0....</td>\n",
       "      <td>[-0.5452500390488106, -0.5452500390488106, -0....</td>\n",
       "      <td>[-1.7379632433239907, -1.62958516404385, -1.53...</td>\n",
       "      <td>[-0.5164077188699413, 0.11713131692002768, 0.1...</td>\n",
       "      <td>[0.9043753409882764, 1.1817998051850536, 1.181...</td>\n",
       "      <td>[-0.11906781300263639, -0.11906781300263639, -...</td>\n",
       "      <td>[-0.32022983414764833, -0.15608473051877228, -...</td>\n",
       "      <td>1</td>\n",
       "    </tr>\n",
       "    <tr>\n",
       "      <th>1</th>\n",
       "      <td>2008-01-03</td>\n",
       "      <td>[-1.7147792242575914, -1.2597392761085422, -1....</td>\n",
       "      <td>[-0.06471785656168408, -0.11481692885314383, -...</td>\n",
       "      <td>[-0.22368526895253332, -0.8668148091450879, -0...</td>\n",
       "      <td>[-1.3496084592368196, -1.1870413403166087, -1....</td>\n",
       "      <td>[-1.8538790166487649, -0.6571941712677122, -0....</td>\n",
       "      <td>[1.1187487905948783, 0.7782733118079257, 0.778...</td>\n",
       "      <td>[-0.11906781300263639, -0.11906781300263639, -...</td>\n",
       "      <td>[-0.15608473051877228, 0.19956299401045927, 0....</td>\n",
       "      <td>1</td>\n",
       "    </tr>\n",
       "    <tr>\n",
       "      <th>2</th>\n",
       "      <td>2008-01-04</td>\n",
       "      <td>[0.924452475006894, -1.5327632449979716, 1.379...</td>\n",
       "      <td>[0.035480288021235415, -0.01461878427022433, -...</td>\n",
       "      <td>[-0.8668148091450879, -0.8668148091450879, -0....</td>\n",
       "      <td>[-1.2231673667433223, -1.2592933931700356, -1....</td>\n",
       "      <td>[0.046738090721142475, -0.5164077188699413, -1...</td>\n",
       "      <td>[1.1817998051850536, 1.3331222402014657, 1.333...</td>\n",
       "      <td>[-0.11906781300263639, -0.11906781300263639, -...</td>\n",
       "      <td>[0.500495683996732, 1.1570760985122364, 1.4032...</td>\n",
       "      <td>1</td>\n",
       "    </tr>\n",
       "    <tr>\n",
       "      <th>3</th>\n",
       "      <td>2008-01-05</td>\n",
       "      <td>[0.7424364957472743, -1.5327632449979716, -1.2...</td>\n",
       "      <td>[-0.6158076517677413, 0.035480288021235415, -0...</td>\n",
       "      <td>[-0.5452500390488106, -0.5452500390488106, -0....</td>\n",
       "      <td>[-1.1328523006765383, -1.12382079406986, -0.97...</td>\n",
       "      <td>[-0.9387670760632539, -0.6571941712677122, -1....</td>\n",
       "      <td>[0.9548161526604138, 0.9043753409882764, 0.904...</td>\n",
       "      <td>[-0.11906781300263639, -0.11906781300263639, -...</td>\n",
       "      <td>[0.500495683996732, 0.9929309948833603, 1.4032...</td>\n",
       "      <td>1</td>\n",
       "    </tr>\n",
       "    <tr>\n",
       "      <th>4</th>\n",
       "      <td>2008-01-06</td>\n",
       "      <td>[-1.5327632449979716, -0.8957073175893028, -0....</td>\n",
       "      <td>[0.8871645169760511, 0.5364710109358329, 0.436...</td>\n",
       "      <td>[-0.4380617823500515, -0.974003065843847, -0.9...</td>\n",
       "      <td>[-1.0515687412164327, -0.8619071024761865, -0....</td>\n",
       "      <td>[-1.0091603022621394, -1.0795535284610247, -1....</td>\n",
       "      <td>[0.9548161526604138, 0.9043753409882764, 0.904...</td>\n",
       "      <td>[-0.11906781300263639, -0.11906781300263639, -...</td>\n",
       "      <td>[0.36370809763933537, 1.512723823041468, 1.649...</td>\n",
       "      <td>1</td>\n",
       "    </tr>\n",
       "    <tr>\n",
       "      <th>...</th>\n",
       "      <td>...</td>\n",
       "      <td>...</td>\n",
       "      <td>...</td>\n",
       "      <td>...</td>\n",
       "      <td>...</td>\n",
       "      <td>...</td>\n",
       "      <td>...</td>\n",
       "      <td>...</td>\n",
       "      <td>...</td>\n",
       "      <td>...</td>\n",
       "    </tr>\n",
       "    <tr>\n",
       "      <th>5106</th>\n",
       "      <td>2021-12-25</td>\n",
       "      <td>[0.924452475006894, 0.924452475006894, 0.74243...</td>\n",
       "      <td>[-0.4655104348933621, -0.9164020855164998, -1....</td>\n",
       "      <td>[-0.11649701225377423, -0.11649701225377423, -...</td>\n",
       "      <td>[-1.8102152961774178, -2.252759119904659, -2.1...</td>\n",
       "      <td>[1.5953890670966224, 0.609883900312226, 0.6802...</td>\n",
       "      <td>[1.2700712256112905, 2.039293603611432, 2.0392...</td>\n",
       "      <td>[-0.11906781300263639, -0.11906781300263639, -...</td>\n",
       "      <td>[-0.21079976506173095, -0.7853076277627973, -0...</td>\n",
       "      <td>0</td>\n",
       "    </tr>\n",
       "    <tr>\n",
       "      <th>5107</th>\n",
       "      <td>2021-12-26</td>\n",
       "      <td>[0.7424364957472743, 0.7424364957472743, 0.924...</td>\n",
       "      <td>[-0.7160057963506608, -0.8162039409335803, -0....</td>\n",
       "      <td>[-0.11649701225377423, -0.11649701225377423, -...</td>\n",
       "      <td>[-2.451452265251584, -2.388231719004835, -2.29...</td>\n",
       "      <td>[-0.3756212664721703, 0.6802771265111115, 0.18...</td>\n",
       "      <td>[2.3671588794803324, 2.518481314496759, 2.4680...</td>\n",
       "      <td>[-0.11906781300263639, -0.11906781300263639, -...</td>\n",
       "      <td>[-0.8126651450342767, -0.9494527313916734, -0....</td>\n",
       "      <td>0</td>\n",
       "    </tr>\n",
       "    <tr>\n",
       "      <th>5108</th>\n",
       "      <td>2021-12-27</td>\n",
       "      <td>[1.1974764438963235, -1.2597392761085422, -0.8...</td>\n",
       "      <td>[-0.36531229031044254, -0.31521321801898283, -...</td>\n",
       "      <td>[-0.11649701225377423, -0.11649701225377423, -...</td>\n",
       "      <td>[-2.2437276132979806, -1.9185933754575586, -1....</td>\n",
       "      <td>[-0.23483481407439957, -0.5164077188699413, -0...</td>\n",
       "      <td>[2.1275650240376835, 1.963632386103219, 1.9258...</td>\n",
       "      <td>[-0.11906781300263639, -0.11906781300263639, -...</td>\n",
       "      <td>[-0.8673801795772353, -0.48437493777652446, -0...</td>\n",
       "      <td>1</td>\n",
       "    </tr>\n",
       "    <tr>\n",
       "      <th>5109</th>\n",
       "      <td>2021-12-28</td>\n",
       "      <td>[-1.5327632449979716, -1.2597392761085422, -1....</td>\n",
       "      <td>[1.1376598784333498, 1.0374617338504304, 0.636...</td>\n",
       "      <td>[-0.3308735256512924, -0.3308735256512924, -0....</td>\n",
       "      <td>[-1.7199002301106339, -1.6657111904705635, -1....</td>\n",
       "      <td>[-0.30522804027328476, -0.3756212664721703, -0...</td>\n",
       "      <td>[1.7114283277425177, 1.7240385306605557, 1.686...</td>\n",
       "      <td>[-0.11906781300263639, -0.11906781300263639, -...</td>\n",
       "      <td>[-0.18344224779025162, 0.06277540765306251, 0....</td>\n",
       "      <td>1</td>\n",
       "    </tr>\n",
       "    <tr>\n",
       "      <th>5110</th>\n",
       "      <td>2021-12-29</td>\n",
       "      <td>[-1.5327632449979716, -1.0777232968489225, -1....</td>\n",
       "      <td>[0.8871645169760511, 1.0374617338504304, 0.887...</td>\n",
       "      <td>[-0.11649701225377423, -0.4380617823500515, -0...</td>\n",
       "      <td>[-1.4399235253036036, -1.1328523006765383, -1....</td>\n",
       "      <td>[-0.7275873974665975, -1.0091603022621394, -0....</td>\n",
       "      <td>[0.9800365584964896, 0.43779783302097325, 0.39...</td>\n",
       "      <td>[-0.11906781300263639, -0.11906781300263639, -...</td>\n",
       "      <td>[0.14484795946750056, 0.36370809763933537, 0.5...</td>\n",
       "      <td>0</td>\n",
       "    </tr>\n",
       "  </tbody>\n",
       "</table>\n",
       "<p>5111 rows × 10 columns</p>\n",
       "</div>"
      ],
      "text/plain": [
       "       date_new                                     wind_direction  \\\n",
       "0    2008-01-02  [0.924452475006894, 1.1974764438963235, 1.1974...   \n",
       "1    2008-01-03  [-1.7147792242575914, -1.2597392761085422, -1....   \n",
       "2    2008-01-04  [0.924452475006894, -1.5327632449979716, 1.379...   \n",
       "3    2008-01-05  [0.7424364957472743, -1.5327632449979716, -1.2...   \n",
       "4    2008-01-06  [-1.5327632449979716, -0.8957073175893028, -0....   \n",
       "...         ...                                                ...   \n",
       "5106 2021-12-25  [0.924452475006894, 0.924452475006894, 0.74243...   \n",
       "5107 2021-12-26  [0.7424364957472743, 0.7424364957472743, 0.924...   \n",
       "5108 2021-12-27  [1.1974764438963235, -1.2597392761085422, -0.8...   \n",
       "5109 2021-12-28  [-1.5327632449979716, -1.2597392761085422, -1....   \n",
       "5110 2021-12-29  [-1.5327632449979716, -1.0777232968489225, -1....   \n",
       "\n",
       "                                            humidity(%)  \\\n",
       "0     [-0.16491600114460359, -0.665906724059201, -0....   \n",
       "1     [-0.06471785656168408, -0.11481692885314383, -...   \n",
       "2     [0.035480288021235415, -0.01461878427022433, -...   \n",
       "3     [-0.6158076517677413, 0.035480288021235415, -0...   \n",
       "4     [0.8871645169760511, 0.5364710109358329, 0.436...   \n",
       "...                                                 ...   \n",
       "5106  [-0.4655104348933621, -0.9164020855164998, -1....   \n",
       "5107  [-0.7160057963506608, -0.8162039409335803, -0....   \n",
       "5108  [-0.36531229031044254, -0.31521321801898283, -...   \n",
       "5109  [1.1376598784333498, 1.0374617338504304, 0.636...   \n",
       "5110  [0.8871645169760511, 1.0374617338504304, 0.887...   \n",
       "\n",
       "                                   lowest_ceiling(100m)  \\\n",
       "0     [-0.5452500390488106, -0.5452500390488106, -0....   \n",
       "1     [-0.22368526895253332, -0.8668148091450879, -0...   \n",
       "2     [-0.8668148091450879, -0.8668148091450879, -0....   \n",
       "3     [-0.5452500390488106, -0.5452500390488106, -0....   \n",
       "4     [-0.4380617823500515, -0.974003065843847, -0.9...   \n",
       "...                                                 ...   \n",
       "5106  [-0.11649701225377423, -0.11649701225377423, -...   \n",
       "5107  [-0.11649701225377423, -0.11649701225377423, -...   \n",
       "5108  [-0.11649701225377423, -0.11649701225377423, -...   \n",
       "5109  [-0.3308735256512924, -0.3308735256512924, -0....   \n",
       "5110  [-0.11649701225377423, -0.4380617823500515, -0...   \n",
       "\n",
       "                                               temp(°C)  \\\n",
       "0     [-1.7379632433239907, -1.62958516404385, -1.53...   \n",
       "1     [-1.3496084592368196, -1.1870413403166087, -1....   \n",
       "2     [-1.2231673667433223, -1.2592933931700356, -1....   \n",
       "3     [-1.1328523006765383, -1.12382079406986, -0.97...   \n",
       "4     [-1.0515687412164327, -0.8619071024761865, -0....   \n",
       "...                                                 ...   \n",
       "5106  [-1.8102152961774178, -2.252759119904659, -2.1...   \n",
       "5107  [-2.451452265251584, -2.388231719004835, -2.29...   \n",
       "5108  [-2.2437276132979806, -1.9185933754575586, -1....   \n",
       "5109  [-1.7199002301106339, -1.6657111904705635, -1....   \n",
       "5110  [-1.4399235253036036, -1.1328523006765383, -1....   \n",
       "\n",
       "                                        wind_speed(m/s)  \\\n",
       "0     [-0.5164077188699413, 0.11713131692002768, 0.1...   \n",
       "1     [-1.8538790166487649, -0.6571941712677122, -0....   \n",
       "2     [0.046738090721142475, -0.5164077188699413, -1...   \n",
       "3     [-0.9387670760632539, -0.6571941712677122, -1....   \n",
       "4     [-1.0091603022621394, -1.0795535284610247, -1....   \n",
       "...                                                 ...   \n",
       "5106  [1.5953890670966224, 0.609883900312226, 0.6802...   \n",
       "5107  [-0.3756212664721703, 0.6802771265111115, 0.18...   \n",
       "5108  [-0.23483481407439957, -0.5164077188699413, -0...   \n",
       "5109  [-0.30522804027328476, -0.3756212664721703, -0...   \n",
       "5110  [-0.7275873974665975, -1.0091603022621394, -0....   \n",
       "\n",
       "                                           local_P(hPa)  \\\n",
       "0     [0.9043753409882764, 1.1817998051850536, 1.181...   \n",
       "1     [1.1187487905948783, 0.7782733118079257, 0.778...   \n",
       "2     [1.1817998051850536, 1.3331222402014657, 1.333...   \n",
       "3     [0.9548161526604138, 0.9043753409882764, 0.904...   \n",
       "4     [0.9548161526604138, 0.9043753409882764, 0.904...   \n",
       "...                                                 ...   \n",
       "5106  [1.2700712256112905, 2.039293603611432, 2.0392...   \n",
       "5107  [2.3671588794803324, 2.518481314496759, 2.4680...   \n",
       "5108  [2.1275650240376835, 1.963632386103219, 1.9258...   \n",
       "5109  [1.7114283277425177, 1.7240385306605557, 1.686...   \n",
       "5110  [0.9800365584964896, 0.43779783302097325, 0.39...   \n",
       "\n",
       "                                      precipitation(mm)  \\\n",
       "0     [-0.11906781300263639, -0.11906781300263639, -...   \n",
       "1     [-0.11906781300263639, -0.11906781300263639, -...   \n",
       "2     [-0.11906781300263639, -0.11906781300263639, -...   \n",
       "3     [-0.11906781300263639, -0.11906781300263639, -...   \n",
       "4     [-0.11906781300263639, -0.11906781300263639, -...   \n",
       "...                                                 ...   \n",
       "5106  [-0.11906781300263639, -0.11906781300263639, -...   \n",
       "5107  [-0.11906781300263639, -0.11906781300263639, -...   \n",
       "5108  [-0.11906781300263639, -0.11906781300263639, -...   \n",
       "5109  [-0.11906781300263639, -0.11906781300263639, -...   \n",
       "5110  [-0.11906781300263639, -0.11906781300263639, -...   \n",
       "\n",
       "                                            PM10_Counts  Air_is_bad?  \n",
       "0     [-0.32022983414764833, -0.15608473051877228, -...            1  \n",
       "1     [-0.15608473051877228, 0.19956299401045927, 0....            1  \n",
       "2     [0.500495683996732, 1.1570760985122364, 1.4032...            1  \n",
       "3     [0.500495683996732, 0.9929309948833603, 1.4032...            1  \n",
       "4     [0.36370809763933537, 1.512723823041468, 1.649...            1  \n",
       "...                                                 ...          ...  \n",
       "5106  [-0.21079976506173095, -0.7853076277627973, -0...            0  \n",
       "5107  [-0.8126651450342767, -0.9494527313916734, -0....            0  \n",
       "5108  [-0.8673801795772353, -0.48437493777652446, -0...            1  \n",
       "5109  [-0.18344224779025162, 0.06277540765306251, 0....            1  \n",
       "5110  [0.14484795946750056, 0.36370809763933537, 0.5...            0  \n",
       "\n",
       "[5111 rows x 10 columns]"
      ]
     },
     "execution_count": 31,
     "metadata": {},
     "output_type": "execute_result"
    }
   ],
   "source": [
    "data"
   ]
  },
  {
   "cell_type": "code",
   "execution_count": 32,
   "id": "0ba34e05-8d64-43a0-9a7b-86dea14e925c",
   "metadata": {},
   "outputs": [],
   "source": [
    "data.to_csv(\"../data/fine_dust_dataset.csv\", index=False)"
   ]
  },
  {
   "cell_type": "markdown",
   "id": "193919cb-7ded-4968-8b45-26e2a7f5965e",
   "metadata": {},
   "source": [
    "# 2. DataLoader Preparation"
   ]
  },
  {
   "cell_type": "markdown",
   "id": "e3ca19a2-3c80-4d1c-8796-b4f641c0e6ad",
   "metadata": {},
   "source": [
    "## 2.1. Preparation of X in `numpy.array` format"
   ]
  },
  {
   "cell_type": "code",
   "execution_count": 33,
   "id": "24bae604-4d51-48f8-a7b3-8136336f0efe",
   "metadata": {},
   "outputs": [
    {
     "name": "stderr",
     "output_type": "stream",
     "text": [
      " 71%|█████████████████████████████████████████████████████▊                      | 3620/5111 [00:00<00:00, 6064.89it/s]"
     ]
    },
    {
     "name": "stdout",
     "output_type": "stream",
     "text": [
      "2791 1 23\n",
      "2791 2 23\n",
      "2791 3 23\n",
      "2791 4 23\n",
      "2791 5 23\n",
      "2791 6 23\n",
      "2801 1 23\n",
      "2801 2 23\n",
      "2801 3 23\n",
      "2801 4 23\n",
      "2801 5 23\n",
      "2801 6 23\n"
     ]
    },
    {
     "name": "stderr",
     "output_type": "stream",
     "text": [
      "100%|████████████████████████████████████████████████████████████████████████████| 5111/5111 [00:00<00:00, 5963.81it/s]\n"
     ]
    }
   ],
   "source": [
    "# To filter out data with inconsistent length\n",
    "\n",
    "for i in tqdm(range(len(data))):\n",
    "    for j in range(1, 7):\n",
    "        if len(data.iloc[i, j]) != 24:\n",
    "            print(i, j, len(data.iloc[i, j]))\n",
    "        else:\n",
    "            continue"
   ]
  },
  {
   "cell_type": "code",
   "execution_count": 34,
   "id": "a69b2cff-6d0c-4f1a-842a-332d6d4be4a5",
   "metadata": {},
   "outputs": [],
   "source": [
    "data = data.drop([2791, 2801], axis=0)"
   ]
  },
  {
   "cell_type": "code",
   "execution_count": 35,
   "id": "8b2a5ea0-544e-4387-b1c9-a96ddd932317",
   "metadata": {},
   "outputs": [
    {
     "name": "stderr",
     "output_type": "stream",
     "text": [
      "100%|████████████████████████████████████████████████████████████████████████████| 5109/5109 [00:01<00:00, 3726.49it/s]\n"
     ]
    }
   ],
   "source": [
    "feature_array = []\n",
    "for i in tqdm(range(len(data))):\n",
    "    row_array = []\n",
    "    for j in range(1, 9):\n",
    "        row_array.append(np.array(data.iloc[i, j]))\n",
    "    stacked_row_array = np.stack(row_array, axis=0)\n",
    "    feature_array.append(stacked_row_array)\n",
    "\n",
    "X = np.stack(feature_array, axis=0)"
   ]
  },
  {
   "cell_type": "code",
   "execution_count": 36,
   "id": "232a79aa-8824-43c2-b9fb-937b02dada9e",
   "metadata": {},
   "outputs": [
    {
     "data": {
      "text/plain": [
       "(5109, 8, 24)"
      ]
     },
     "execution_count": 36,
     "metadata": {},
     "output_type": "execute_result"
    }
   ],
   "source": [
    "X.shape"
   ]
  },
  {
   "cell_type": "markdown",
   "id": "bf3a9165-24e4-4c51-bb7f-5ae32fe4b461",
   "metadata": {},
   "source": [
    "## 2.2. Preparation of y in `numpy.array` format"
   ]
  },
  {
   "cell_type": "code",
   "execution_count": 37,
   "id": "626cbae9-078c-4f09-9663-82e331283a65",
   "metadata": {},
   "outputs": [],
   "source": [
    "y = np.array(data[\"Air_is_bad?\"])"
   ]
  },
  {
   "cell_type": "code",
   "execution_count": 38,
   "id": "a0fc6944-5040-4fe5-82f0-15391b34ddf9",
   "metadata": {},
   "outputs": [
    {
     "data": {
      "text/plain": [
       "(5109,)"
      ]
     },
     "execution_count": 38,
     "metadata": {},
     "output_type": "execute_result"
    }
   ],
   "source": [
    "y.shape"
   ]
  },
  {
   "cell_type": "markdown",
   "id": "e54ad713-103a-4ee6-89c6-7f52fffdc664",
   "metadata": {},
   "source": [
    "## 2.3. Train/Valid/Test Split for Deep Learning"
   ]
  },
  {
   "cell_type": "code",
   "execution_count": 39,
   "id": "f1423643-9a9d-4180-9cec-36f07a77ad92",
   "metadata": {},
   "outputs": [
    {
     "data": {
      "text/plain": [
       "2919"
      ]
     },
     "execution_count": 39,
     "metadata": {},
     "output_type": "execute_result"
    }
   ],
   "source": [
    "# To find the index to split the data into train and test set\n",
    "len(data.loc[data[\"date_new\"].dt.date < datetime.date(2016, 1, 1)])"
   ]
  },
  {
   "cell_type": "code",
   "execution_count": 40,
   "id": "7deea8fa-d60e-4ce9-b754-480151a85363",
   "metadata": {},
   "outputs": [
    {
     "data": {
      "text/plain": [
       "3650"
      ]
     },
     "execution_count": 40,
     "metadata": {},
     "output_type": "execute_result"
    }
   ],
   "source": [
    "# To find the index to split the test data into valid and test set\n",
    "len(data.loc[data[\"date_new\"].dt.date < datetime.date(2018, 1, 1)])"
   ]
  },
  {
   "cell_type": "code",
   "execution_count": 41,
   "id": "f9ac3ec1-e6fa-4c47-9cc0-ff506d9113ef",
   "metadata": {},
   "outputs": [],
   "source": [
    "X_train = X[:2919, :, :]\n",
    "X_valid = X[2919:3650, :, :]\n",
    "X_test = X[3650:, :, :]\n",
    "\n",
    "y_train = y[:2919]\n",
    "y_valid = y[2919:3650]\n",
    "y_test = y[3650:]"
   ]
  },
  {
   "cell_type": "markdown",
   "id": "bdf15e47-5983-461d-9713-243d634a3414",
   "metadata": {},
   "source": [
    "## 2.4. DataLoaders"
   ]
  },
  {
   "cell_type": "code",
   "execution_count": 42,
   "id": "5c839db3-0129-40d5-84bb-85c2766bbac6",
   "metadata": {},
   "outputs": [],
   "source": [
    "X_train_tensor = torch.Tensor(X_train)\n",
    "X_valid_tensor = torch.Tensor(X_valid)\n",
    "X_test_tensor = torch.Tensor(X_test)\n",
    "\n",
    "y_train_tensor = torch.Tensor(y_train)\n",
    "y_valid_tensor = torch.Tensor(y_valid)\n",
    "y_test_tensor = torch.Tensor(y_test)"
   ]
  },
  {
   "cell_type": "code",
   "execution_count": 43,
   "id": "570f1bf9-5a7b-4528-b9d7-6d704f4123c1",
   "metadata": {},
   "outputs": [],
   "source": [
    "train_dataset = TensorDataset(X_train_tensor, y_train_tensor)\n",
    "trainloader = DataLoader(train_dataset, batch_size=28, shuffle=True)\n",
    "\n",
    "valid_dataset = TensorDataset(X_valid_tensor, y_valid_tensor)\n",
    "validloader = DataLoader(valid_dataset, batch_size=10, shuffle=True)\n",
    "\n",
    "test_dataset = TensorDataset(X_test_tensor, y_test_tensor)\n",
    "testloader = DataLoader(test_dataset, batch_size=10, shuffle=True)"
   ]
  },
  {
   "cell_type": "markdown",
   "id": "74ffb75c-ce6f-48bb-8b7c-d6b3cf4e784f",
   "metadata": {},
   "source": [
    "## 2.5. Sample Check"
   ]
  },
  {
   "cell_type": "code",
   "execution_count": 44,
   "id": "3b8afae1-086b-414c-9619-5f4e8cb100a7",
   "metadata": {},
   "outputs": [
    {
     "data": {
      "image/png": "[encoded data removed]",
      "text/plain": [
       "<Figure size 900x400 with 8 Axes>"
      ]
     },
     "metadata": {},
     "output_type": "display_data"
    }
   ],
   "source": [
    "weather, label = next(iter(trainloader))\n",
    "i = np.random.randint(0, 28)\n",
    "weather = weather[i]\n",
    "weather = scaler.inverse_transform(weather.permute(1, 0)).transpose()\n",
    "fig, axs = plt.subplots(nrows=2, ncols=4, figsize=(9, 4))\n",
    "r = 0\n",
    "c = 0\n",
    "for j in range(8):\n",
    "    axs[r, c].plot(weather[j, :])\n",
    "    axs[r, c].set_title(f\"{feature_names[j]}\")\n",
    "    if c < 3:\n",
    "        c += 1\n",
    "    else:\n",
    "        r += 1\n",
    "        c = 0\n",
    "fig.suptitle(f\"Air Quality Bad? {bool(label[i])}\")\n",
    "plt.tight_layout()\n",
    "plt.show();"
   ]
  },
  {
   "cell_type": "markdown",
   "id": "c50261fe-4e6a-45d3-949c-543d1970142e",
   "metadata": {},
   "source": [
    "## 2.6. DataLoader Save"
   ]
  },
  {
   "cell_type": "code",
   "execution_count": 45,
   "id": "a5d8e952-0328-4735-b254-eeedee77dd73",
   "metadata": {},
   "outputs": [],
   "source": [
    "torch.save(trainloader, \"../models/trainloader.pth\")\n",
    "torch.save(validloader, \"../models/validloader.pth\")\n",
    "torch.save(testloader, \"../models/testloader.pth\")"
   ]
  }
 ],
 "metadata": {
  "kernelspec": {
   "display_name": "Python [conda env:finedust_env]",
   "language": "python",
   "name": "conda-env-finedust_env-py"
  },
  "language_info": {
   "codemirror_mode": {
    "name": "ipython",
    "version": 3
   },
   "file_extension": ".py",
   "mimetype": "text/x-python",
   "name": "python",
   "nbconvert_exporter": "python",
   "pygments_lexer": "ipython3",
   "version": "3.10.8"
  }
 },
 "nbformat": 4,
 "nbformat_minor": 5
}
